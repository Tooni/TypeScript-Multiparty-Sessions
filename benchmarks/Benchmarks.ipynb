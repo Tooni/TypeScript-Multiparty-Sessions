{
  "nbformat": 4,
  "nbformat_minor": 0,
  "metadata": {
    "colab": {
      "name": "Benchmarks.ipynb",
      "provenance": [],
      "collapsed_sections": [],
      "authorship_tag": "ABX9TyOBZhnZPjfQth2M+mlOQ+Hz",
      "include_colab_link": true
    },
    "kernelspec": {
      "name": "python3",
      "display_name": "Python 3"
    }
  },
  "cells": [
    {
      "cell_type": "markdown",
      "metadata": {
        "id": "view-in-github",
        "colab_type": "text"
      },
      "source": [
        "<a href=\"https://colab.research.google.com/github/ansonmiu0214/TypeScript-Multiparty-Sessions/blob/master/benchmarks/Benchmarks.ipynb\" target=\"_parent\"><img src=\"https://colab.research.google.com/assets/colab-badge.svg\" alt=\"Open In Colab\"/></a>"
      ]
    },
    {
      "cell_type": "markdown",
      "metadata": {
        "id": "0Cd3yfQXChPZ",
        "colab_type": "text"
      },
      "source": [
        "## Setup"
      ]
    },
    {
      "cell_type": "code",
      "metadata": {
        "id": "reG-TSdK8uvH",
        "colab_type": "code",
        "colab": {}
      },
      "source": [
        "import numpy as np\n",
        "import matplotlib.pyplot as plt\n",
        "\n",
        "%matplotlib inline"
      ],
      "execution_count": 0,
      "outputs": []
    },
    {
      "cell_type": "code",
      "metadata": {
        "id": "9d1_Am5lCkMK",
        "colab_type": "code",
        "colab": {
          "base_uri": "https://localhost:8080/",
          "height": 153
        },
        "outputId": "8302d1c9-80c6-4da1-d4fc-fee06c2ea21d"
      },
      "source": [
        "import os\n",
        "import shutil\n",
        "\n",
        "repo_path = '/content/TypeScript-Multiparty-Sessions'\n",
        "if os.path.exists(repo_path):\n",
        "    print('Note: deleting stale repo')\n",
        "    shutil.rmtree(repo_path)\n",
        "\n",
        "!git clone https://github.com/ansonmiu0214/TypeScript-Multiparty-Sessions\n",
        "benchmark_path = os.path.join(repo_path, 'benchmarks')\n",
        "assert os.path.exists(benchmark_path)"
      ],
      "execution_count": 9,
      "outputs": [
        {
          "output_type": "stream",
          "text": [
            "Note: deleting stale repo\n",
            "Cloning into 'TypeScript-Multiparty-Sessions'...\n",
            "remote: Enumerating objects: 1043, done.\u001b[K\n",
            "remote: Counting objects: 100% (1043/1043), done.\u001b[K\n",
            "remote: Compressing objects: 100% (636/636), done.\u001b[K\n",
            "remote: Total 1043 (delta 592), reused 832 (delta 388), pack-reused 0\u001b[K\n",
            "Receiving objects: 100% (1043/1043), 643.97 KiB | 908.00 KiB/s, done.\n",
            "Resolving deltas: 100% (592/592), done.\n"
          ],
          "name": "stdout"
        }
      ]
    },
    {
      "cell_type": "code",
      "metadata": {
        "id": "IWQhA7nk66Ye",
        "colab_type": "code",
        "colab": {}
      },
      "source": [
        "def from_ms(ms):\n",
        "    return float(ms[:-2])\n",
        "\n",
        "def parse_log(content, prefix = 'benchmark'):\n",
        "    relevant_lines = [line.strip() for line in content\n",
        "                      if line.startswith(prefix) and line.strip()]\n",
        "\n",
        "    message_sent = [0]\n",
        "    elapsed_ms = [0.0]\n",
        "\n",
        "    for line in relevant_lines[:-1]:\n",
        "        _, time, count = line.split(' ')\n",
        "        message_sent.append(int(count))\n",
        "        elapsed_ms.append(from_ms(time))\n",
        "\n",
        "    _, total_elapsed_str = relevant_lines[-1].split(' ')\n",
        "    total_elapsed_ms = from_ms(total_elapsed_str)\n",
        "\n",
        "    return message_sent, elapsed_ms, total_elapsed_ms"
      ],
      "execution_count": 0,
      "outputs": []
    },
    {
      "cell_type": "code",
      "metadata": {
        "id": "ulUTpzrLD_Wh",
        "colab_type": "code",
        "colab": {}
      },
      "source": [
        "def visualise_logs(label, message_count):\n",
        "    log_dir = os.path.join(benchmark_path, label, 'server', 'logs')\n",
        "    relevant_logs = [log for log in os.listdir(log_dir)\n",
        "                     if int(log.split('_')[0]) == message_count]\n",
        "\n",
        "    datasets = []\n",
        "    average_elapsed = 0.0\n",
        "\n",
        "    for log in relevant_logs:\n",
        "        log_path = os.path.join(log_dir, log)\n",
        "        with open(log_path, 'r') as log_file:\n",
        "            message_count, elapsed, total_elapsed = parse_log(log_file)\n",
        "            datasets.append((message_count, elapsed))\n",
        "            average_elapsed += total_elapsed\n",
        "\n",
        "    average_elapsed /= len(relevant_logs)\n",
        "\n",
        "    return datasets, average_elapsed"
      ],
      "execution_count": 0,
      "outputs": []
    },
    {
      "cell_type": "code",
      "metadata": {
        "id": "j1WFIq6RHxBt",
        "colab_type": "code",
        "colab": {
          "base_uri": "https://localhost:8080/",
          "height": 282
        },
        "outputId": "eae37dfd-4c7f-45e2-fa7b-be85d014382b"
      },
      "source": [
        "datasets, average_elapsed = visualise_logs('mpst', 1000)\n",
        "print('Average elapsed:', average_elapsed, 'ms')\n",
        "\n",
        "for xs, ys in datasets:\n",
        "    plt.plot(xs, ys)"
      ],
      "execution_count": 33,
      "outputs": [
        {
          "output_type": "stream",
          "text": [
            "Average elapsed: 2267.0894 ms\n"
          ],
          "name": "stdout"
        },
        {
          "output_type": "display_data",
          "data": {
            "image/png": "[encoded data removed]",
            "text/plain": [
              "<Figure size 432x288 with 1 Axes>"
            ]
          },
          "metadata": {
            "tags": [],
            "needs_background": "light"
          }
        }
      ]
    },
    {
      "cell_type": "code",
      "metadata": {
        "id": "47vGMTM79IqN",
        "colab_type": "code",
        "colab": {}
      },
      "source": [
        ""
      ],
      "execution_count": 0,
      "outputs": []
    }
  ]
}